{
 "cells": [
  {
   "cell_type": "markdown",
   "metadata": {},
   "source": [
    "# multi thread"
   ]
  },
  {
   "cell_type": "code",
   "execution_count": 1,
   "metadata": {
    "collapsed": false
   },
   "outputs": [],
   "source": [
    "from threading import Thread\n",
    "import timeit"
   ]
  },
  {
   "cell_type": "code",
   "execution_count": 2,
   "metadata": {
    "collapsed": true
   },
   "outputs": [],
   "source": [
    "def do_work(start,end, result):\n",
    "    sum = 0\n",
    "    for i in range(start,end):\n",
    "        sum += i\n",
    "    result.append(sum)\n",
    "    return"
   ]
  },
  {
   "cell_type": "code",
   "execution_count": 3,
   "metadata": {
    "collapsed": false
   },
   "outputs": [
    {
     "name": "stdout",
     "output_type": "stream",
     "text": [
      "199999990000000\n",
      "1.78762292862\n"
     ]
    }
   ],
   "source": [
    "START, END = 0,20000000\n",
    "result = list()\n",
    "tic = timeit.default_timer()\n",
    "\n",
    "th1 = Thread(target=do_work, args=(START,END, result))\n",
    "th1.start()\n",
    "th1.join()\n",
    "print sum(result)\n",
    "toc = timeit.default_timer()\n",
    "print toc-tic"
   ]
  },
  {
   "cell_type": "markdown",
   "metadata": {},
   "source": [
    "## thread 2"
   ]
  },
  {
   "cell_type": "code",
   "execution_count": 4,
   "metadata": {
    "collapsed": false
   },
   "outputs": [
    {
     "name": "stdout",
     "output_type": "stream",
     "text": [
      "199999990000000\n",
      "1.64076113701\n"
     ]
    }
   ],
   "source": [
    "START, END = 0,20000000\n",
    "result = list()\n",
    "tic = timeit.default_timer()\n",
    "\n",
    "th1 = Thread(target=do_work, args=(START,END/2, result))\n",
    "th2 = Thread(target=do_work, args=(END/2,END, result))\n",
    "th1.start()\n",
    "th2.start()\n",
    "th1.join()\n",
    "th2.join()\n",
    "print sum(result)\n",
    "toc = timeit.default_timer()\n",
    "print toc-tic"
   ]
  },
  {
   "cell_type": "markdown",
   "metadata": {},
   "source": [
    "`GIL(Global Interperter Lock)` is problem"
   ]
  },
  {
   "cell_type": "markdown",
   "metadata": {},
   "source": [
    "GIL 도입 이유\n",
    "* 인터프리터의 구현이 쉬움\n",
    "* Garbage Collector 만들기도 좋음\n",
    "* C/C++ 확장 모듈 만들기도 쉬움\n",
    "* ==> 파이썬이 쉽게 퍼질수 있었음"
   ]
  },
  {
   "cell_type": "markdown",
   "metadata": {},
   "source": [
    "# multiprocessing module"
   ]
  },
  {
   "cell_type": "code",
   "execution_count": 5,
   "metadata": {
    "collapsed": true
   },
   "outputs": [],
   "source": [
    "from multiprocessing import Process, Queue"
   ]
  },
  {
   "cell_type": "code",
   "execution_count": 6,
   "metadata": {
    "collapsed": true
   },
   "outputs": [],
   "source": [
    "def do_work(start, end, result):\n",
    "    sum = 0\n",
    "    for i in range(start, end):\n",
    "        sum += i\n",
    "    result.put(sum)\n",
    "    return"
   ]
  },
  {
   "cell_type": "code",
   "execution_count": 8,
   "metadata": {
    "collapsed": false
   },
   "outputs": [
    {
     "name": "stdout",
     "output_type": "stream",
     "text": [
      "Result :  199999990000000\n",
      "1.3261590004\n"
     ]
    }
   ],
   "source": [
    "START, END = 0,20000000\n",
    "result = Queue()\n",
    "tic = timeit.default_timer()\n",
    "pr1 = Process(target=do_work, args=(START, END/2, result))\n",
    "pr2 = Process(target=do_work, args=(END/2, END, result))\n",
    "pr1.start()\n",
    "pr2.start()\n",
    "pr1.join()\n",
    "pr2.join()\n",
    "result.put('STOP')\n",
    "sum =0\n",
    "while True:\n",
    "    tmp = result.get()\n",
    "    if tmp == 'STOP':\n",
    "        break\n",
    "    else:\n",
    "        sum += tmp\n",
    "toc = timeit.default_timer()\n",
    "print \"Result : \", sum\n",
    "print toc-tic\n"
   ]
  },
  {
   "cell_type": "markdown",
   "metadata": {},
   "source": [
    "# parallel python\n",
    "* multiprocess를 여러대에게"
   ]
  },
  {
   "cell_type": "code",
   "execution_count": null,
   "metadata": {
    "collapsed": true
   },
   "outputs": [],
   "source": []
  }
 ],
 "metadata": {
  "kernelspec": {
   "display_name": "Python 2",
   "language": "python",
   "name": "python2"
  },
  "language_info": {
   "codemirror_mode": {
    "name": "ipython",
    "version": 2
   },
   "file_extension": ".py",
   "mimetype": "text/x-python",
   "name": "python",
   "nbconvert_exporter": "python",
   "pygments_lexer": "ipython2",
   "version": "2.7.10"
  }
 },
 "nbformat": 4,
 "nbformat_minor": 0
}
