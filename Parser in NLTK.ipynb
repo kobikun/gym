{
 "cells": [
  {
   "cell_type": "markdown",
   "metadata": {},
   "source": [
    "# nltk analyzing sentence structure"
   ]
  },
  {
   "cell_type": "markdown",
   "metadata": {},
   "source": [
    "* http://www.nltk.org/book/ch08.html"
   ]
  },
  {
   "cell_type": "markdown",
   "metadata": {},
   "source": [
    "* 생성문법 (Generative Grammar)"
   ]
  },
  {
   "cell_type": "markdown",
   "metadata": {},
   "source": [
    "## ambiguity\n",
    "* example\n",
    " * While hunting in Africa, I shot an elephant in my pajamas. How he got into my pajamas, I don't know\n",
    " "
   ]
  },
  {
   "cell_type": "code",
   "execution_count": 2,
   "metadata": {
    "collapsed": false
   },
   "outputs": [],
   "source": [
    "import nltk\n",
    "grouch_grammar = nltk.CFG.fromstring(\"\"\"\n",
    "S -> NP VP\n",
    "PP -> P NP\n",
    "NP -> Det N | Det N PP | 'I'\n",
    "VP -> V NP | VP PP\n",
    "Det -> 'an' | 'my'\n",
    "N -> 'elephant' | 'pajamas'\n",
    "V -> 'shot'\n",
    "P -> 'in'\n",
    "\"\"\")"
   ]
  },
  {
   "cell_type": "code",
   "execution_count": 3,
   "metadata": {
    "collapsed": true
   },
   "outputs": [],
   "source": [
    "sent = \"I shot an elephant in my pajamas\".split(\" \")\n",
    "parser = nltk.ChartParser(grouch_grammar)"
   ]
  },
  {
   "cell_type": "code",
   "execution_count": 5,
   "metadata": {
    "collapsed": false
   },
   "outputs": [
    {
     "name": "stdout",
     "output_type": "stream",
     "text": [
      "(S\n",
      "  (NP I)\n",
      "  (VP\n",
      "    (VP (V shot) (NP (Det an) (N elephant)))\n",
      "    (PP (P in) (NP (Det my) (N pajamas)))))\n",
      "(S\n",
      "  (NP I)\n",
      "  (VP\n",
      "    (V shot)\n",
      "    (NP (Det an) (N elephant) (PP (P in) (NP (Det my) (N pajamas))))))\n"
     ]
    }
   ],
   "source": [
    "for tree in parser.parse(sent):\n",
    "    print tree"
   ]
  },
  {
   "cell_type": "code",
   "execution_count": 7,
   "metadata": {
    "collapsed": false
   },
   "outputs": [
    {
     "name": "stdout",
     "output_type": "stream",
     "text": [
      "     S                                       \n",
      "  ___|______________                          \n",
      " |                  VP                       \n",
      " |         _________|__________               \n",
      " |        VP                   PP            \n",
      " |    ____|___              ___|___           \n",
      " |   |        NP           |       NP        \n",
      " |   |     ___|_____       |    ___|_____     \n",
      " NP  V   Det        N      P  Det        N   \n",
      " |   |    |         |      |   |         |    \n",
      " I  shot  an     elephant  in  my     pajamas\n",
      "\n",
      "None\n",
      "     S                                   \n",
      "  ___|__________                          \n",
      " |              VP                       \n",
      " |    __________|______                   \n",
      " |   |                 NP                \n",
      " |   |     ____________|___               \n",
      " |   |    |     |          PP            \n",
      " |   |    |     |       ___|___           \n",
      " |   |    |     |      |       NP        \n",
      " |   |    |     |      |    ___|_____     \n",
      " NP  V   Det    N      P  Det        N   \n",
      " |   |    |     |      |   |         |    \n",
      " I  shot  an elephant  in  my     pajamas\n",
      "\n",
      "None\n"
     ]
    }
   ],
   "source": [
    "for tree in parser.parse(sent):\n",
    "    print tree.pretty_print()"
   ]
  },
  {
   "cell_type": "markdown",
   "metadata": {},
   "source": [
    "## 3. CFG\n",
    "### 3.1 Simple Grammar"
   ]
  },
  {
   "cell_type": "code",
   "execution_count": 10,
   "metadata": {
    "collapsed": false
   },
   "outputs": [],
   "source": [
    "grammar1 = nltk.CFG.fromstring(\"\"\"\n",
    "S -> NP VP\n",
    "VP -> V NP | V NP PP\n",
    "PP -> P NP\n",
    "V -> 'saw' | 'ate' | 'walked'\n",
    "NP -> 'John' | 'Mary' | 'Bob' | Det N | Det N PP\n",
    "Det -> 'a' | 'an' | 'the' | 'my' \n",
    "N -> 'man' | 'dog' | 'cat' | 'telescope' | 'park'\n",
    "P -> 'in' | 'on' | 'by' | 'with'\n",
    "\"\"\")"
   ]
  },
  {
   "cell_type": "code",
   "execution_count": 11,
   "metadata": {
    "collapsed": true
   },
   "outputs": [],
   "source": [
    "sent = \"Mary saw Bob\".split()\n",
    "rd_parser = nltk.RecursiveDescentParser(grammar1)"
   ]
  },
  {
   "cell_type": "code",
   "execution_count": 13,
   "metadata": {
    "collapsed": false
   },
   "outputs": [
    {
     "name": "stdout",
     "output_type": "stream",
     "text": [
      "(S (NP Mary) (VP (V saw) (NP Bob)))\n"
     ]
    }
   ],
   "source": [
    "for tree in rd_parser.parse(sent):\n",
    "    print tree"
   ]
  },
  {
   "cell_type": "code",
   "execution_count": 15,
   "metadata": {
    "collapsed": false
   },
   "outputs": [
    {
     "name": "stdout",
     "output_type": "stream",
     "text": [
      "      S         \n",
      "  ____|___       \n",
      " |        VP    \n",
      " |     ___|___   \n",
      " NP   V       NP\n",
      " |    |       |  \n",
      "Mary saw     Bob\n",
      "\n"
     ]
    }
   ],
   "source": [
    "for tree in rd_parser.parse(sent):\n",
    "    tree.pretty_print()"
   ]
  },
  {
   "cell_type": "markdown",
   "metadata": {},
   "source": [
    "* https://en.wikipedia.org/wiki/Recursive_descent_parser\n",
    " * top down parser"
   ]
  },
  {
   "cell_type": "code",
   "execution_count": 16,
   "metadata": {
    "collapsed": false
   },
   "outputs": [
    {
     "name": "stdout",
     "output_type": "stream",
     "text": [
      "                 S                      \n",
      "      ___________|___                    \n",
      "     |               VP                 \n",
      "     |        _______|___                \n",
      "     |       |           NP             \n",
      "     |       |    _______|___            \n",
      "     |       |   |   |       PP         \n",
      "     |       |   |   |    ___|___        \n",
      "     NP      |   |   |   |       NP     \n",
      "  ___|___    |   |   |   |    ___|___    \n",
      "Det      N   V  Det  N   P  Det      N  \n",
      " |       |   |   |   |   |   |       |   \n",
      "the     dog saw  a  man  in the     park\n",
      "\n",
      "                 S                          \n",
      "      ___________|_______                    \n",
      "     |                   VP                 \n",
      "     |        ___________|_______            \n",
      "     |       |       |           PP         \n",
      "     |       |       |        ___|___        \n",
      "     NP      |       NP      |       NP     \n",
      "  ___|___    |    ___|___    |    ___|___    \n",
      "Det      N   V  Det      N   P  Det      N  \n",
      " |       |   |   |       |   |   |       |   \n",
      "the     dog saw  a      man  in the     park\n",
      "\n"
     ]
    }
   ],
   "source": [
    "sent = \"the dog saw a man in the park\".split()\n",
    "for tree in rd_parser.parse(sent):\n",
    "    tree.pretty_print()"
   ]
  },
  {
   "cell_type": "markdown",
   "metadata": {},
   "source": [
    "* structurally ambiguous\n",
    " * 전치사 구의 모호성 \n",
    " * 공원에 있는 남자인지? 공원에 있는 개인지?\n",
    " * 공원에 있는 개가 남자를 봤다. \n",
    " * 개가 공원에 있는 남자를 봤다."
   ]
  },
  {
   "cell_type": "markdown",
   "metadata": {},
   "source": [
    "### 3.2 Writing Your own grammars\n",
    "* using CFG text file, we can load it into NLTK and parse"
   ]
  },
  {
   "cell_type": "raw",
   "metadata": {},
   "source": [
    ">>> grammar1 = nltk.data.load('file:mygrammar.cfg')\n",
    ">>> sent = \"Mary saw Bob\".split()\n",
    ">>> rd_parser = nltk.RecursiveDescentParser(grammar1)\n",
    ">>> for tree in rd_parser.parse(sent):\n",
    "...      print(tree)"
   ]
  },
  {
   "cell_type": "markdown",
   "metadata": {},
   "source": [
    "### 3.3 Recursion in Syntactic Structure"
   ]
  },
  {
   "cell_type": "code",
   "execution_count": 18,
   "metadata": {
    "collapsed": true
   },
   "outputs": [],
   "source": [
    "grammar2 = nltk.CFG.fromstring(\"\"\"\n",
    "  S  -> NP VP\n",
    "  NP -> Det Nom | PropN\n",
    "  Nom -> Adj Nom | N\n",
    "  VP -> V Adj | V NP | V S | V NP PP\n",
    "  PP -> P NP\n",
    "  PropN -> 'Buster' | 'Chatterer' | 'Joe'\n",
    "  Det -> 'the' | 'a'\n",
    "  N -> 'bear' | 'squirrel' | 'tree' | 'fish' | 'log'\n",
    "  Adj  -> 'angry' | 'frightened' |  'little' | 'tall'\n",
    "  V ->  'chased'  | 'saw' | 'said' | 'thought' | 'was' | 'put'\n",
    "  P -> 'on'\n",
    "  \"\"\")"
   ]
  },
  {
   "cell_type": "code",
   "execution_count": 19,
   "metadata": {
    "collapsed": true
   },
   "outputs": [],
   "source": [
    "rd_parser = nltk.RecursiveDescentParser(grammar2)"
   ]
  },
  {
   "cell_type": "code",
   "execution_count": 23,
   "metadata": {
    "collapsed": false
   },
   "outputs": [
    {
     "name": "stdout",
     "output_type": "stream",
     "text": [
      "                     S                                          \n",
      "       ______________|____________                               \n",
      "      |                           VP                            \n",
      "      |               ____________|_______                       \n",
      "      |              |                    NP                    \n",
      "      |              |      ______________|____                  \n",
      "      NP             |     |                  Nom               \n",
      "  ____|____          |     |       ____________|_____            \n",
      " |        Nom        |     |      |                 Nom         \n",
      " |     ____|___      |     |      |             _____|_____      \n",
      " |    |       Nom    |     |      |            |          Nom   \n",
      " |    |        |     |     |      |            |           |     \n",
      "Det  Adj       N     V    Det    Adj          Adj          N    \n",
      " |    |        |     |     |      |            |           |     \n",
      "the angry     bear chased the frightened     little     squirrel\n",
      "\n"
     ]
    }
   ],
   "source": [
    "sent = \"the angry bear chased the frightened little squirrel\".split()\n",
    "for tree in rd_parser.parse(sent):\n",
    "    tree.pretty_print()"
   ]
  },
  {
   "cell_type": "code",
   "execution_count": 24,
   "metadata": {
    "collapsed": false
   },
   "outputs": [
    {
     "name": "stdout",
     "output_type": "stream",
     "text": [
      "           S                                               \n",
      "     ______|_____                                           \n",
      "    |            VP                                        \n",
      "    |       _____|_____________                             \n",
      "    |      |                   S                           \n",
      "    |      |      _____________|_______                     \n",
      "    |      |     |                     VP                  \n",
      "    |      |     |        _____________|____                \n",
      "    |      |     |       |                  S              \n",
      "    |      |     |       |          ________|_______        \n",
      "    |      |     |       |         NP               |      \n",
      "    |      |     |       |      ___|___             |       \n",
      "    NP     |     NP      |     |      Nom           VP     \n",
      "    |      |     |       |     |       |         ___|___    \n",
      "  PropN    V   PropN     V    Det      N        V      Adj \n",
      "    |      |     |       |     |       |        |       |   \n",
      "Chatterer said Buster thought the     tree     was     tall\n",
      "\n"
     ]
    }
   ],
   "source": [
    "sent = \"Chatterer said Buster thought the tree was tall\".split()\n",
    "for tree in rd_parser.parse(sent):\n",
    "    tree.pretty_print()"
   ]
  },
  {
   "cell_type": "markdown",
   "metadata": {},
   "source": [
    "## 4. Parsing with CFG"
   ]
  },
  {
   "cell_type": "markdown",
   "metadata": {},
   "source": [
    "### 4.1 Recursive Descent Parsing\n",
    "* ![image](http://www.nltk.org/images/rdparser1-6.png)"
   ]
  },
  {
   "cell_type": "code",
   "execution_count": null,
   "metadata": {
    "collapsed": true
   },
   "outputs": [],
   "source": []
  }
 ],
 "metadata": {
  "kernelspec": {
   "display_name": "Python 2",
   "language": "python",
   "name": "python2"
  },
  "language_info": {
   "codemirror_mode": {
    "name": "ipython",
    "version": 2
   },
   "file_extension": ".py",
   "mimetype": "text/x-python",
   "name": "python",
   "nbconvert_exporter": "python",
   "pygments_lexer": "ipython2",
   "version": "2.7.10"
  }
 },
 "nbformat": 4,
 "nbformat_minor": 0
}
